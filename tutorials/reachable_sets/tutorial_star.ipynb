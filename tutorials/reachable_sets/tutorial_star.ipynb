{
 "cells": [
  {
   "cell_type": "markdown",
   "metadata": {},
   "source": [
    "# Star Construction Tutorial\n",
    "\n",
    "This tutorial demonstrates two main methods for constructing Star sets in the StarV tool. A star set is defined by:\n",
    "\n",
    "$x = c + a[1]v[1] + a[2]v[2] + ... + a[n]v[n] = V b$\n",
    "\n",
    "where:\n",
    "- $V = [c\\ v[1]\\ v[2]\\ ...\\ v[n]]$ (basis matrix)\n",
    "- $b = [1\\ a[1]\\ a[2]\\ ...\\ a[n]]^T$ (predicates)\n",
    "- $C a \\leq d$ (constraints on predicates)\n",
    "\n",
    "First, let's import the necessary libraries:"
   ]
  },
  {
   "cell_type": "code",
   "execution_count": null,
   "metadata": {},
   "outputs": [],
   "source": [
    "from StarV.set.star import Star\n",
    "import numpy as np\n",
    "from StarV.util.plot import plot_star"
   ]
  },
  {
   "cell_type": "markdown",
   "metadata": {},
   "source": [
    "## Method 1: Custom Star Set Creation\n",
    "In this example, we'll create a star set using a basis matrix, constraints, and predicate bounds. \n",
    "\n",
    "In this example:\n",
    "1. We create a 2D star set with center at [1, -1]\n",
    "2. The first generator vector is [1, 0]\n",
    "3. The second generator vector is [0, 1]\n",
    "4. The predicates have bounds:\n",
    "   - a1 ∈ [-1, 1]\n",
    "   - a2 ∈ [0, 1]\n",
    "5. There's an additional constraint: a1 + a2 ≤ 1"
   ]
  },
  {
   "cell_type": "code",
   "execution_count": null,
   "metadata": {},
   "outputs": [],
   "source": [
    "def tutorial_custom_star():\n",
    "    \"\"\"\n",
    "    Demonstrates creating a star set using basis matrix, constraints, and predicate bounds.\n",
    "    \"\"\"\n",
    "    # Define basis vectors\n",
    "    c1 = np.array([[1], [-1]])         # center vector\n",
    "    v1 = np.array([[1], [0]])          # basis vector 1\n",
    "    v2 = np.array([[0], [1]])          # basis vector 2\n",
    "    \n",
    "    # Combine into basis matrix V = [c1 v1 v2]\n",
    "    V = np.hstack((c1, v1, v2))\n",
    "    \n",
    "    # Note: This is equivalent to:\n",
    "    # V = np.array([[1, 1, 0], [-1, 0, 1]])\n",
    "    \n",
    "    # Define predicate bounds and constraints\n",
    "    pred_lb = np.array([-1, 0])  # -1 <= a1, 0 <= a2\n",
    "    pred_ub = np.array([1, 1])   # a1 <= 1, a2 <= 1\n",
    "    C = np.array([[1, 1]])       # Additional constraint: a1 + a2 <= 1\n",
    "    d = np.array([1])\n",
    "    \n",
    "    try:\n",
    "        # Create star set\n",
    "        star1 = Star(V, C, d, pred_lb, pred_ub)\n",
    "        print(\"Successfully created star set\")\n",
    "        return star1\n",
    "    except Exception as e:\n",
    "        print(f\"Error creating star set: {str(e)}\")\n",
    "        return None\n",
    "\n",
    "# Create and display the star set\n",
    "star1 = tutorial_custom_star()"
   ]
  },
  {
   "cell_type": "markdown",
   "metadata": {},
   "source": [
    "## Method 2: Bounded Star Set Creation\n",
    "The second method creates a star set directly from predicate bounds:\n",
    "\n",
    "When creating a star set from bounds:\n",
    "1. The dimension is determined by the length of lb/ub\n",
    "2. The center is automatically computed as (lb + ub)/2\n",
    "3. The generators are created to span the box dimensions\n",
    "4. The resulting star set represents a box in the state space"
   ]
  },
  {
   "cell_type": "code",
   "execution_count": null,
   "metadata": {},
   "outputs": [],
   "source": [
    "def tutorial_bounded_star():\n",
    "    \"\"\"\n",
    "    Demonstrates creating a star set using bounds.\n",
    "    \"\"\"\n",
    "    try:\n",
    "        # Define bounds for predicates\n",
    "        lb = np.array([-2, -1])   # lower bounds: x1 >= -2, x2 >= -1\n",
    "        ub = np.array([2, 1])     # upper bounds: x1 <= 2,  x2 <= 1\n",
    "        \n",
    "        # Create star set from predicate bounds\n",
    "        star2 = Star(lb, ub)\n",
    "        print(\"Successfully created star set\")\n",
    "        return star2\n",
    "    except Exception as e:\n",
    "        print(f\"Error creating star set: {str(e)}\")\n",
    "        return None\n",
    "\n",
    "# Create and display the bounded star set\n",
    "star2 = tutorial_bounded_star()"
   ]
  },
  {
   "cell_type": "markdown",
   "metadata": {},
   "source": []
  }
 ],
 "metadata": {
  "language_info": {
   "name": "python"
  }
 },
 "nbformat": 4,
 "nbformat_minor": 2
}
